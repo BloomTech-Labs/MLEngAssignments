{
 "nbformat": 4,
 "nbformat_minor": 0,
 "metadata": {
  "colab": {
   "name": "ML_Engineer.ipynb",
   "provenance": [],
   "collapsed_sections": []
  },
  "kernelspec": {
   "name": "python3",
   "display_name": "Python 3"
  },
  "language_info": {
   "name": "python"
  }
 },
 "cells": [
  {
   "cell_type": "markdown",
   "metadata": {
    "id": "Zagwj7Qg_l4c"
   },
   "source": [
    "# Machine Learning Engineer"
   ]
  },
  {
   "cell_type": "markdown",
   "metadata": {
    "id": "jzD3kWv71N3T"
   },
   "source": [
    "## Introduction: Welcome to the Machine Learning Engineering Role!\n",
    "\n",
    "This course will walk you through everything you need to know to be a Rockstar\n",
    "ML Engineer. Unlike other courses, the DS Role courses will present some\n",
    "assignments in the form of iPython Notebooks. It is highly recommended to use\n",
    "Colab to complete these assignments."
   ]
  },
  {
   "cell_type": "markdown",
   "source": [
    "### Course Outline\n",
    "- ML Model Interfaces\n",
    "- Model Tuning & Pipelines\n",
    "- Clustering Model & Lookup Tables\n",
    "- Model Serialization"
   ],
   "metadata": {
    "collapsed": false
   }
  },
  {
   "cell_type": "markdown",
   "metadata": {
    "id": "20oCzfEwoPCA"
   },
   "source": [
    "### Random Monsters: MonsterLab"
   ]
  },
  {
   "cell_type": "code",
   "metadata": {
    "id": "aCo6nZ9rnv_z"
   },
   "source": [
    "!pip install MonsterLab"
   ],
   "execution_count": 2,
   "outputs": [
    {
     "name": "stdout",
     "output_type": "stream",
     "text": [
      "Requirement already satisfied: MonsterLab in /Library/Frameworks/Python.framework/Versions/3.8/lib/python3.8/site-packages (1.2.2)\r\n",
      "Requirement already satisfied: pytz in /Library/Frameworks/Python.framework/Versions/3.8/lib/python3.8/site-packages (from MonsterLab) (2020.1)\r\n"
     ]
    }
   ]
  },
  {
   "cell_type": "code",
   "metadata": {
    "id": "GDnBfBzsnno7"
   },
   "source": [
    "import joblib\n",
    "from typing import List, Tuple\n",
    "\n",
    "import pandas as pd\n",
    "from pandas import DataFrame\n",
    "from sklearn.model_selection import train_test_split, RandomizedSearchCV\n",
    "from sklearn.ensemble import RandomForestClassifier\n",
    "\n",
    "from MonsterLab import Monster"
   ],
   "execution_count": 3,
   "outputs": []
  },
  {
   "cell_type": "markdown",
   "source": [
    "Before we can do machine learning we need some data!"
   ],
   "metadata": {
    "collapsed": false
   }
  },
  {
   "cell_type": "markdown",
   "source": [
    "### Random Monster"
   ],
   "metadata": {
    "collapsed": false
   }
  },
  {
   "cell_type": "code",
   "execution_count": 4,
   "outputs": [
    {
     "data": {
      "text/plain": "Name: Diamond Archfey\nType: Fey\nLevel: 11\nRarity: Rank 1\nDamage: 11d4+2\nHealth: 45.98\nEnergy: 44.36\nSanity: 44.74\nTime Stamp: 2022-03-31 06:49:44"
     },
     "execution_count": 4,
     "metadata": {},
     "output_type": "execute_result"
    }
   ],
   "source": [
    "Monster()"
   ],
   "metadata": {
    "collapsed": false,
    "pycharm": {
     "name": "#%%\n"
    }
   }
  },
  {
   "cell_type": "markdown",
   "source": [
    "Generate Mock Monster Data. 5000 should make for a good model, but play with it, see what you can find with different values for the `number` variable below."
   ],
   "metadata": {
    "collapsed": false
   }
  },
  {
   "cell_type": "code",
   "execution_count": 5,
   "outputs": [
    {
     "data": {
      "text/plain": "                     Name       Type  Level  Rarity  Damage  Health  Energy  \\\n0              Mummy Lord     Undead      4  Rank 2   4d6+3   23.42   25.73   \n1                  Wyvern     Dragon      8  Rank 1   8d4+1   30.41   33.54   \n2     Lightning Elemental  Elemental      5  Rank 3     5d8   38.77   42.68   \n3         Skeletal Archer     Undead      9  Rank 2     9d6   54.32   55.16   \n4           Kobold Knight   Devilkin      2  Rank 0     2d2    4.42    4.82   \n...                   ...        ...    ...     ...     ...     ...     ...   \n4995        Steam Archfey        Fey      5  Rank 1   5d4+2   21.84   19.02   \n4996            Night Hag    Demonic     13  Rank 0  13d2+3   25.50   25.79   \n4997      Platinum Dragon     Dragon      8  Rank 2   8d6+1   45.80   49.13   \n4998          Dust Spirit        Fey      2  Rank 1   2d4+1    7.12    8.09   \n4999               Quasit    Demonic      4  Rank 1     4d4   15.53   16.02   \n\n      Sanity           Time Stamp  \n0      23.34  2022-03-31 06:49:44  \n1      32.28  2022-03-31 06:49:44  \n2      43.58  2022-03-31 06:49:44  \n3      53.69  2022-03-31 06:49:44  \n4       4.00  2022-03-31 06:49:44  \n...      ...                  ...  \n4995   20.14  2022-03-31 06:49:44  \n4996   25.15  2022-03-31 06:49:44  \n4997   46.77  2022-03-31 06:49:44  \n4998    8.64  2022-03-31 06:49:44  \n4999   16.18  2022-03-31 06:49:44  \n\n[5000 rows x 9 columns]",
      "text/html": "<div>\n<style scoped>\n    .dataframe tbody tr th:only-of-type {\n        vertical-align: middle;\n    }\n\n    .dataframe tbody tr th {\n        vertical-align: top;\n    }\n\n    .dataframe thead th {\n        text-align: right;\n    }\n</style>\n<table border=\"1\" class=\"dataframe\">\n  <thead>\n    <tr style=\"text-align: right;\">\n      <th></th>\n      <th>Name</th>\n      <th>Type</th>\n      <th>Level</th>\n      <th>Rarity</th>\n      <th>Damage</th>\n      <th>Health</th>\n      <th>Energy</th>\n      <th>Sanity</th>\n      <th>Time Stamp</th>\n    </tr>\n  </thead>\n  <tbody>\n    <tr>\n      <th>0</th>\n      <td>Mummy Lord</td>\n      <td>Undead</td>\n      <td>4</td>\n      <td>Rank 2</td>\n      <td>4d6+3</td>\n      <td>23.42</td>\n      <td>25.73</td>\n      <td>23.34</td>\n      <td>2022-03-31 06:49:44</td>\n    </tr>\n    <tr>\n      <th>1</th>\n      <td>Wyvern</td>\n      <td>Dragon</td>\n      <td>8</td>\n      <td>Rank 1</td>\n      <td>8d4+1</td>\n      <td>30.41</td>\n      <td>33.54</td>\n      <td>32.28</td>\n      <td>2022-03-31 06:49:44</td>\n    </tr>\n    <tr>\n      <th>2</th>\n      <td>Lightning Elemental</td>\n      <td>Elemental</td>\n      <td>5</td>\n      <td>Rank 3</td>\n      <td>5d8</td>\n      <td>38.77</td>\n      <td>42.68</td>\n      <td>43.58</td>\n      <td>2022-03-31 06:49:44</td>\n    </tr>\n    <tr>\n      <th>3</th>\n      <td>Skeletal Archer</td>\n      <td>Undead</td>\n      <td>9</td>\n      <td>Rank 2</td>\n      <td>9d6</td>\n      <td>54.32</td>\n      <td>55.16</td>\n      <td>53.69</td>\n      <td>2022-03-31 06:49:44</td>\n    </tr>\n    <tr>\n      <th>4</th>\n      <td>Kobold Knight</td>\n      <td>Devilkin</td>\n      <td>2</td>\n      <td>Rank 0</td>\n      <td>2d2</td>\n      <td>4.42</td>\n      <td>4.82</td>\n      <td>4.00</td>\n      <td>2022-03-31 06:49:44</td>\n    </tr>\n    <tr>\n      <th>...</th>\n      <td>...</td>\n      <td>...</td>\n      <td>...</td>\n      <td>...</td>\n      <td>...</td>\n      <td>...</td>\n      <td>...</td>\n      <td>...</td>\n      <td>...</td>\n    </tr>\n    <tr>\n      <th>4995</th>\n      <td>Steam Archfey</td>\n      <td>Fey</td>\n      <td>5</td>\n      <td>Rank 1</td>\n      <td>5d4+2</td>\n      <td>21.84</td>\n      <td>19.02</td>\n      <td>20.14</td>\n      <td>2022-03-31 06:49:44</td>\n    </tr>\n    <tr>\n      <th>4996</th>\n      <td>Night Hag</td>\n      <td>Demonic</td>\n      <td>13</td>\n      <td>Rank 0</td>\n      <td>13d2+3</td>\n      <td>25.50</td>\n      <td>25.79</td>\n      <td>25.15</td>\n      <td>2022-03-31 06:49:44</td>\n    </tr>\n    <tr>\n      <th>4997</th>\n      <td>Platinum Dragon</td>\n      <td>Dragon</td>\n      <td>8</td>\n      <td>Rank 2</td>\n      <td>8d6+1</td>\n      <td>45.80</td>\n      <td>49.13</td>\n      <td>46.77</td>\n      <td>2022-03-31 06:49:44</td>\n    </tr>\n    <tr>\n      <th>4998</th>\n      <td>Dust Spirit</td>\n      <td>Fey</td>\n      <td>2</td>\n      <td>Rank 1</td>\n      <td>2d4+1</td>\n      <td>7.12</td>\n      <td>8.09</td>\n      <td>8.64</td>\n      <td>2022-03-31 06:49:44</td>\n    </tr>\n    <tr>\n      <th>4999</th>\n      <td>Quasit</td>\n      <td>Demonic</td>\n      <td>4</td>\n      <td>Rank 1</td>\n      <td>4d4</td>\n      <td>15.53</td>\n      <td>16.02</td>\n      <td>16.18</td>\n      <td>2022-03-31 06:49:44</td>\n    </tr>\n  </tbody>\n</table>\n<p>5000 rows × 9 columns</p>\n</div>"
     },
     "execution_count": 5,
     "metadata": {},
     "output_type": "execute_result"
    }
   ],
   "source": [
    "number = 5000\n",
    "df = pd.DataFrame(Monster().to_dict() for _ in range(number))\n",
    "df.to_csv(\"monsters.csv\", index=False)\n",
    "df"
   ],
   "metadata": {
    "collapsed": false,
    "pycharm": {
     "name": "#%%\n"
    }
   }
  },
  {
   "cell_type": "code",
   "execution_count": 6,
   "outputs": [],
   "source": [
    "target = \"Rarity\"\n",
    "features = [\"Level\", \"Health\", \"Energy\", \"Sanity\"]"
   ],
   "metadata": {
    "collapsed": false,
    "pycharm": {
     "name": "#%%\n"
    }
   }
  },
  {
   "cell_type": "markdown",
   "source": [
    "## Hyperparameter Tuning"
   ],
   "metadata": {
    "collapsed": false
   }
  },
  {
   "cell_type": "code",
   "execution_count": 7,
   "outputs": [
    {
     "data": {
      "text/plain": "RandomizedSearchCV(cv=7,\n                   estimator=RandomForestClassifier(n_estimators=333,\n                                                    random_state=42),\n                   n_iter=18, n_jobs=-1,\n                   param_distributions={'criterion': ('gini', 'entropy'),\n                                        'max_depth': (3, 6, 9),\n                                        'max_features': (2, 3, 4)},\n                   random_state=42)"
     },
     "execution_count": 7,
     "metadata": {},
     "output_type": "execute_result"
    }
   ],
   "source": [
    "X_train, X_test, y_train, y_test = train_test_split(\n",
    "    df[features],\n",
    "    df[target],\n",
    "    test_size=0.20,\n",
    "    random_state=42,\n",
    "    stratify=df[target],\n",
    ")\n",
    "\n",
    "param_dist = {\n",
    "    \"criterion\": (\"gini\", \"entropy\"),\n",
    "    \"max_depth\": (3, 6, 9),\n",
    "    \"max_features\": (2, 3, 4)\n",
    "}\n",
    "\n",
    "n_iter = 1\n",
    "for arr in param_dist.values():\n",
    "    n_iter *= len(arr)\n",
    "\n",
    "search = RandomizedSearchCV(\n",
    "    RandomForestClassifier(\n",
    "        n_estimators=333,\n",
    "        random_state=42,\n",
    "    ),\n",
    "    param_distributions=param_dist,\n",
    "    n_iter=n_iter,\n",
    "    n_jobs=-1,\n",
    "    cv=7,\n",
    "    random_state=42,\n",
    ")\n",
    "search.fit(X_train, y_train)"
   ],
   "metadata": {
    "collapsed": false,
    "pycharm": {
     "name": "#%%\n"
    }
   }
  },
  {
   "cell_type": "code",
   "execution_count": 8,
   "outputs": [
    {
     "data": {
      "text/plain": "RandomForestClassifier(criterion='entropy', max_depth=9, max_features=3,\n                       n_estimators=333, random_state=42)"
     },
     "execution_count": 8,
     "metadata": {},
     "output_type": "execute_result"
    }
   ],
   "source": [
    "search.best_estimator_"
   ],
   "metadata": {
    "collapsed": false,
    "pycharm": {
     "name": "#%%\n"
    }
   }
  },
  {
   "cell_type": "code",
   "execution_count": 9,
   "outputs": [
    {
     "data": {
      "text/plain": "0.9829990499867909"
     },
     "execution_count": 9,
     "metadata": {},
     "output_type": "execute_result"
    }
   ],
   "source": [
    "search.best_score_"
   ],
   "metadata": {
    "collapsed": false,
    "pycharm": {
     "name": "#%%\n"
    }
   }
  },
  {
   "cell_type": "markdown",
   "source": [
    "## Model Interface: RandomForestClassifier"
   ],
   "metadata": {
    "collapsed": false
   }
  },
  {
   "cell_type": "markdown",
   "source": [
    "### Abstraction, Encapsulation, Polymorphism\n",
    "\n",
    "Below is one example of an abstraction that encapsulates an ML model and extends some customization points. Here we'll use a class interface, but functions can work too.\n",
    "\n",
    "You can parameterize every aspect of the model by adding arguments to the init method. Be mindful, you don't want to over-do it here. Keep your calling signature simple and usable. Provide good defaults and well named arguments, and your users will enjoy using your code. Make it super complicated, and they may as well just use Scikit themselves.\n",
    "\n",
    "A good interface should always encapsulate the core logic in such a way that the rest of the app is totally unaware of how it works, but can still interact with it. One might say that a good interface is always more abstract than the core logic it encapsulates. At this higher abstraction level it becomes easier to replace our core logic without disrupting other parts of the app.\n",
    "\n",
    "...and now a word from our sponsor, Polymorphism!\n",
    "\n",
    "One hypothetical example of Polymorphism is if we designed more than one ML model, possibly with two different ML libraries. Then gave them compatible interfaces. This gives us the ability to trade one model library for another without rewriting the whole app. We could do that at any time during development without disrupting anything. A Polymorphic system is built to be modular from the start."
   ],
   "metadata": {
    "collapsed": false
   }
  },
  {
   "cell_type": "code",
   "execution_count": 10,
   "outputs": [],
   "source": [
    "class Model:\n",
    "\n",
    "    def __init__(self, df: DataFrame, target: str, features: List[str]):\n",
    "        X_train, X_test, y_train, y_test = train_test_split(\n",
    "            df[features],\n",
    "            df[target],\n",
    "            test_size=0.20,\n",
    "            random_state=42,\n",
    "            stratify=df[target],\n",
    "        )\n",
    "        self.model = RandomForestClassifier(\n",
    "            criterion=\"entropy\",\n",
    "            max_depth=9,\n",
    "            max_features=3,\n",
    "            n_jobs=-1,\n",
    "            random_state=42,\n",
    "        )\n",
    "        self.model.fit(X_train, y_train)\n",
    "        self.baseline_score = 1 / df[target].unique().shape[0]\n",
    "        self.test_score = self.model.score(X_test, y_test)\n",
    "\n",
    "    def __call__(self, feature_basis: DataFrame) -> List[Tuple]:\n",
    "        prediction = self.model.predict(feature_basis)\n",
    "        probability = self.model.predict_proba(feature_basis)\n",
    "        return list(zip(prediction, map(max, probability)))\n",
    "\n",
    "    def __repr__(self):\n",
    "        output = (\n",
    "            \"Model: Random Forest Classifier\",\n",
    "            f\"Baseline Score: {self.baseline_score:.1%}\",\n",
    "            f\"Testing Score: {self.test_score:.1%}\",\n",
    "        )\n",
    "        return \"\\n\".join(output)\n",
    "\n",
    "    def __str__(self):\n",
    "        return repr(self)\n",
    "\n",
    "    def save(self, filepath):\n",
    "        joblib.dump(self, filepath)\n",
    "\n",
    "    @staticmethod\n",
    "    def open(filepath: str):\n",
    "        return joblib.load(filepath)"
   ],
   "metadata": {
    "collapsed": false,
    "pycharm": {
     "name": "#%%\n"
    }
   }
  },
  {
   "cell_type": "code",
   "execution_count": 11,
   "outputs": [
    {
     "data": {
      "text/plain": "Model: Random Forest Classifier\nBaseline Score: 16.7%\nTesting Score: 98.7%"
     },
     "execution_count": 11,
     "metadata": {},
     "output_type": "execute_result"
    }
   ],
   "source": [
    "model = Model(df=df, target=target, features=features)\n",
    "model"
   ],
   "metadata": {
    "collapsed": false,
    "pycharm": {
     "name": "#%%\n"
    }
   }
  },
  {
   "cell_type": "code",
   "execution_count": 12,
   "outputs": [
    {
     "data": {
      "text/plain": "RandomForestClassifier(criterion='entropy', max_depth=9, max_features=3,\n                       n_jobs=-1, random_state=42)"
     },
     "execution_count": 12,
     "metadata": {},
     "output_type": "execute_result"
    }
   ],
   "source": [
    "model.model"
   ],
   "metadata": {
    "collapsed": false,
    "pycharm": {
     "name": "#%%\n"
    }
   }
  },
  {
   "cell_type": "markdown",
   "source": [
    "### Make Predictions"
   ],
   "metadata": {
    "collapsed": false
   }
  },
  {
   "cell_type": "code",
   "execution_count": 17,
   "outputs": [],
   "source": [
    "test_cases = DataFrame([\n",
    "    {\n",
    "        \"Level\": 1,\n",
    "        \"Health\": 5,\n",
    "        \"Energy\": 5,\n",
    "        \"Sanity\": 5,\n",
    "    },\n",
    "    {\n",
    "        \"Level\": 10,\n",
    "        \"Health\": 75,\n",
    "        \"Energy\": 75,\n",
    "        \"Sanity\": 75,\n",
    "    },\n",
    "])"
   ],
   "metadata": {
    "collapsed": false,
    "pycharm": {
     "name": "#%%\n"
    }
   }
  },
  {
   "cell_type": "code",
   "execution_count": 19,
   "outputs": [
    {
     "data": {
      "text/plain": "[('Rank 1', 0.7921387626688972), ('Rank 2', 0.71)]"
     },
     "execution_count": 19,
     "metadata": {},
     "output_type": "execute_result"
    }
   ],
   "source": [
    "model(test_cases)"
   ],
   "metadata": {
    "collapsed": false,
    "pycharm": {
     "name": "#%%\n"
    }
   }
  },
  {
   "cell_type": "markdown",
   "source": [
    "### Serialization"
   ],
   "metadata": {
    "collapsed": false
   }
  },
  {
   "cell_type": "code",
   "execution_count": 20,
   "outputs": [],
   "source": [
    "model.save(\"model.job\")"
   ],
   "metadata": {
    "collapsed": false,
    "pycharm": {
     "name": "#%%\n"
    }
   }
  },
  {
   "cell_type": "code",
   "execution_count": 21,
   "outputs": [],
   "source": [
    "model = Model.open(\"model.job\")"
   ],
   "metadata": {
    "collapsed": false,
    "pycharm": {
     "name": "#%%\n"
    }
   }
  },
  {
   "cell_type": "code",
   "execution_count": null,
   "outputs": [],
   "source": [],
   "metadata": {
    "collapsed": false,
    "pycharm": {
     "name": "#%%\n"
    }
   }
  }
 ]
}