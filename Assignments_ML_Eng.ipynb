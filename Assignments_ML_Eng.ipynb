{
 "nbformat": 4,
 "nbformat_minor": 0,
 "metadata": {
  "colab": {
   "name": "ML_Engineer.ipynb",
   "provenance": [],
   "collapsed_sections": []
  },
  "kernelspec": {
   "name": "python3",
   "display_name": "Python 3"
  },
  "language_info": {
   "name": "python"
  }
 },
 "cells": [
  {
   "cell_type": "markdown",
   "metadata": {
    "id": "Zagwj7Qg_l4c"
   },
   "source": [
    "# Machine Learning Engineer"
   ]
  },
  {
   "cell_type": "markdown",
   "metadata": {
    "id": "jzD3kWv71N3T"
   },
   "source": [
    "## Introduction: Welcome to the Machine Learning Engineering Role!\n",
    "\n",
    "This course will walk you through everything you need to know to be a Rockstar\n",
    "ML Engineer. Unlike other courses, the DS Role courses will present some\n",
    "assignments in the form of iPython Notebooks. It is highly recommended to use\n",
    "Colab to complete these assignments."
   ]
  },
  {
   "cell_type": "markdown",
   "source": [
    "### Course Outline\n",
    "- ML Model Interfaces\n",
    "- Model Tuning & Pipelines\n",
    "- Clustering Model & Lookup Tables\n",
    "- Model Serialization"
   ],
   "metadata": {
    "collapsed": false
   }
  },
  {
   "cell_type": "markdown",
   "metadata": {
    "id": "20oCzfEwoPCA"
   },
   "source": [
    "### Random Monsters: MonsterLab"
   ]
  },
  {
   "cell_type": "code",
   "metadata": {
    "id": "aCo6nZ9rnv_z"
   },
   "source": [
    "!pip install MonsterLab"
   ],
   "execution_count": 1,
   "outputs": [
    {
     "name": "stdout",
     "output_type": "stream",
     "text": [
      "Collecting MonsterLab\r\n",
      "  Using cached MonsterLab-1.2.2-py3-none-any.whl (4.4 kB)\r\n",
      "Requirement already satisfied: pytz in /Library/Frameworks/Python.framework/Versions/3.8/lib/python3.8/site-packages (from MonsterLab) (2020.1)\r\n",
      "Installing collected packages: MonsterLab\r\n",
      "Successfully installed MonsterLab-1.2.2\r\n"
     ]
    }
   ]
  },
  {
   "cell_type": "code",
   "metadata": {
    "id": "GDnBfBzsnno7"
   },
   "source": [
    "import joblib\n",
    "from typing import List, Tuple\n",
    "\n",
    "import pandas as pd\n",
    "from pandas import DataFrame\n",
    "from sklearn.model_selection import train_test_split, RandomizedSearchCV\n",
    "from sklearn.ensemble import RandomForestClassifier\n",
    "\n",
    "from MonsterLab import Monster"
   ],
   "execution_count": 2,
   "outputs": []
  },
  {
   "cell_type": "markdown",
   "source": [
    "Before we can do machine learning we need some data!"
   ],
   "metadata": {
    "collapsed": false
   }
  },
  {
   "cell_type": "markdown",
   "source": [
    "### Random Monster"
   ],
   "metadata": {
    "collapsed": false
   }
  },
  {
   "cell_type": "code",
   "execution_count": 3,
   "outputs": [
    {
     "data": {
      "text/plain": "Name: Steam Devil\nType: Devilkin\nLevel: 7\nRarity: Rank 0\nDamage: 7d2+2\nHealth: 14.0\nEnergy: 14.53\nSanity: 13.77\nTime Stamp: 2022-03-29 13:10:29"
     },
     "execution_count": 3,
     "metadata": {},
     "output_type": "execute_result"
    }
   ],
   "source": [
    "Monster()"
   ],
   "metadata": {
    "collapsed": false,
    "pycharm": {
     "name": "#%%\n"
    }
   }
  },
  {
   "cell_type": "markdown",
   "source": [
    "Generate Mock Monster Data. 5000 should make for a good model, but play with it, see what you can find with different values for the `number` variable below."
   ],
   "metadata": {
    "collapsed": false
   }
  },
  {
   "cell_type": "code",
   "execution_count": 4,
   "outputs": [
    {
     "data": {
      "text/plain": "                 Name       Type  Level  Rarity Damage  Health  Energy  \\\n0          Red Dragon     Dragon      9  Rank 0  9d2+1   17.84   17.90   \n1              Djinni  Elemental      6  Rank 1  6d4+4   23.17   22.87   \n2               Ghoul     Undead      7  Rank 2  7d6+2   43.64   44.76   \n3                 Imp    Demonic      4  Rank 3  4d8+2   34.08   29.55   \n4     Kobold Villager   Devilkin      6  Rank 1    6d4   25.93   23.56   \n...               ...        ...    ...     ...    ...     ...     ...   \n4995            Balor    Demonic      3  Rank 3  3d8+4   24.08   27.23   \n4996      Black Drake     Dragon      9  Rank 1  9d4+2   34.67   37.03   \n4997       Ice Mephit  Elemental      6  Rank 2    6d6   37.54   35.40   \n4998         Revenant     Undead      3  Rank 0  3d2+1    6.65    5.19   \n4999              Imp    Demonic      6  Rank 4   6d10   62.93   58.29   \n\n      Sanity           Time Stamp  \n0      17.59  2022-03-29 13:10:47  \n1      23.56  2022-03-29 13:10:47  \n2      43.42  2022-03-29 13:10:47  \n3      34.87  2022-03-29 13:10:47  \n4      23.25  2022-03-29 13:10:47  \n...      ...                  ...  \n4995   25.43  2022-03-29 13:10:47  \n4996   35.67  2022-03-29 13:10:47  \n4997   34.11  2022-03-29 13:10:47  \n4998    5.83  2022-03-29 13:10:47  \n4999   56.96  2022-03-29 13:10:47  \n\n[5000 rows x 9 columns]",
      "text/html": "<div>\n<style scoped>\n    .dataframe tbody tr th:only-of-type {\n        vertical-align: middle;\n    }\n\n    .dataframe tbody tr th {\n        vertical-align: top;\n    }\n\n    .dataframe thead th {\n        text-align: right;\n    }\n</style>\n<table border=\"1\" class=\"dataframe\">\n  <thead>\n    <tr style=\"text-align: right;\">\n      <th></th>\n      <th>Name</th>\n      <th>Type</th>\n      <th>Level</th>\n      <th>Rarity</th>\n      <th>Damage</th>\n      <th>Health</th>\n      <th>Energy</th>\n      <th>Sanity</th>\n      <th>Time Stamp</th>\n    </tr>\n  </thead>\n  <tbody>\n    <tr>\n      <th>0</th>\n      <td>Red Dragon</td>\n      <td>Dragon</td>\n      <td>9</td>\n      <td>Rank 0</td>\n      <td>9d2+1</td>\n      <td>17.84</td>\n      <td>17.90</td>\n      <td>17.59</td>\n      <td>2022-03-29 13:10:47</td>\n    </tr>\n    <tr>\n      <th>1</th>\n      <td>Djinni</td>\n      <td>Elemental</td>\n      <td>6</td>\n      <td>Rank 1</td>\n      <td>6d4+4</td>\n      <td>23.17</td>\n      <td>22.87</td>\n      <td>23.56</td>\n      <td>2022-03-29 13:10:47</td>\n    </tr>\n    <tr>\n      <th>2</th>\n      <td>Ghoul</td>\n      <td>Undead</td>\n      <td>7</td>\n      <td>Rank 2</td>\n      <td>7d6+2</td>\n      <td>43.64</td>\n      <td>44.76</td>\n      <td>43.42</td>\n      <td>2022-03-29 13:10:47</td>\n    </tr>\n    <tr>\n      <th>3</th>\n      <td>Imp</td>\n      <td>Demonic</td>\n      <td>4</td>\n      <td>Rank 3</td>\n      <td>4d8+2</td>\n      <td>34.08</td>\n      <td>29.55</td>\n      <td>34.87</td>\n      <td>2022-03-29 13:10:47</td>\n    </tr>\n    <tr>\n      <th>4</th>\n      <td>Kobold Villager</td>\n      <td>Devilkin</td>\n      <td>6</td>\n      <td>Rank 1</td>\n      <td>6d4</td>\n      <td>25.93</td>\n      <td>23.56</td>\n      <td>23.25</td>\n      <td>2022-03-29 13:10:47</td>\n    </tr>\n    <tr>\n      <th>...</th>\n      <td>...</td>\n      <td>...</td>\n      <td>...</td>\n      <td>...</td>\n      <td>...</td>\n      <td>...</td>\n      <td>...</td>\n      <td>...</td>\n      <td>...</td>\n    </tr>\n    <tr>\n      <th>4995</th>\n      <td>Balor</td>\n      <td>Demonic</td>\n      <td>3</td>\n      <td>Rank 3</td>\n      <td>3d8+4</td>\n      <td>24.08</td>\n      <td>27.23</td>\n      <td>25.43</td>\n      <td>2022-03-29 13:10:47</td>\n    </tr>\n    <tr>\n      <th>4996</th>\n      <td>Black Drake</td>\n      <td>Dragon</td>\n      <td>9</td>\n      <td>Rank 1</td>\n      <td>9d4+2</td>\n      <td>34.67</td>\n      <td>37.03</td>\n      <td>35.67</td>\n      <td>2022-03-29 13:10:47</td>\n    </tr>\n    <tr>\n      <th>4997</th>\n      <td>Ice Mephit</td>\n      <td>Elemental</td>\n      <td>6</td>\n      <td>Rank 2</td>\n      <td>6d6</td>\n      <td>37.54</td>\n      <td>35.40</td>\n      <td>34.11</td>\n      <td>2022-03-29 13:10:47</td>\n    </tr>\n    <tr>\n      <th>4998</th>\n      <td>Revenant</td>\n      <td>Undead</td>\n      <td>3</td>\n      <td>Rank 0</td>\n      <td>3d2+1</td>\n      <td>6.65</td>\n      <td>5.19</td>\n      <td>5.83</td>\n      <td>2022-03-29 13:10:47</td>\n    </tr>\n    <tr>\n      <th>4999</th>\n      <td>Imp</td>\n      <td>Demonic</td>\n      <td>6</td>\n      <td>Rank 4</td>\n      <td>6d10</td>\n      <td>62.93</td>\n      <td>58.29</td>\n      <td>56.96</td>\n      <td>2022-03-29 13:10:47</td>\n    </tr>\n  </tbody>\n</table>\n<p>5000 rows × 9 columns</p>\n</div>"
     },
     "execution_count": 4,
     "metadata": {},
     "output_type": "execute_result"
    }
   ],
   "source": [
    "number = 5000\n",
    "df = pd.DataFrame(Monster().to_dict() for _ in range(number))\n",
    "df.to_csv(\"monsters.csv\", index=False)\n",
    "df"
   ],
   "metadata": {
    "collapsed": false,
    "pycharm": {
     "name": "#%%\n"
    }
   }
  },
  {
   "cell_type": "code",
   "execution_count": 88,
   "outputs": [],
   "source": [
    "target = \"Rarity\"\n",
    "features = [\"Level\", \"Health\", \"Energy\", \"Sanity\"]"
   ],
   "metadata": {
    "collapsed": false,
    "pycharm": {
     "name": "#%%\n"
    }
   }
  },
  {
   "cell_type": "markdown",
   "source": [
    "## Hyperparameter Tuning"
   ],
   "metadata": {
    "collapsed": false
   }
  },
  {
   "cell_type": "code",
   "execution_count": 83,
   "outputs": [
    {
     "data": {
      "text/plain": "RandomizedSearchCV(cv=7,\n                   estimator=RandomForestClassifier(n_estimators=333,\n                                                    random_state=42),\n                   n_iter=18, n_jobs=-1,\n                   param_distributions={'criterion': ('gini', 'entropy'),\n                                        'max_depth': (3, 6, 9),\n                                        'max_features': (2, 3, 4)},\n                   random_state=42)"
     },
     "execution_count": 83,
     "metadata": {},
     "output_type": "execute_result"
    }
   ],
   "source": [
    "X_train, X_test, y_train, y_test = train_test_split(\n",
    "    df[features],\n",
    "    df[target],\n",
    "    test_size=0.20,\n",
    "    random_state=42,\n",
    "    stratify=df[target],\n",
    ")\n",
    "\n",
    "param_dist = {\n",
    "    \"criterion\": (\"gini\", \"entropy\"),\n",
    "    \"max_depth\": (3, 6, 9),\n",
    "    \"max_features\": (2, 3, 4)\n",
    "}\n",
    "\n",
    "n_iter = 1\n",
    "for arr in param_dist.values():\n",
    "    n_iter *= len(arr)\n",
    "\n",
    "search = RandomizedSearchCV(\n",
    "    RandomForestClassifier(\n",
    "        n_estimators=333,\n",
    "        random_state=42,\n",
    "    ),\n",
    "    param_distributions=param_dist,\n",
    "    n_iter=n_iter,\n",
    "    n_jobs=-1,\n",
    "    cv=7,\n",
    "    random_state=42,\n",
    ")\n",
    "search.fit(X_train, y_train)"
   ],
   "metadata": {
    "collapsed": false,
    "pycharm": {
     "name": "#%%\n"
    }
   }
  },
  {
   "cell_type": "code",
   "execution_count": 84,
   "outputs": [
    {
     "data": {
      "text/plain": "RandomForestClassifier(criterion='entropy', max_depth=9, max_features=3,\n                       n_estimators=333, random_state=42)"
     },
     "execution_count": 84,
     "metadata": {},
     "output_type": "execute_result"
    }
   ],
   "source": [
    "search.best_estimator_"
   ],
   "metadata": {
    "collapsed": false,
    "pycharm": {
     "name": "#%%\n"
    }
   }
  },
  {
   "cell_type": "code",
   "execution_count": 87,
   "outputs": [
    {
     "data": {
      "text/plain": "0.9902488054852326"
     },
     "execution_count": 87,
     "metadata": {},
     "output_type": "execute_result"
    }
   ],
   "source": [
    "search.best_score_"
   ],
   "metadata": {
    "collapsed": false,
    "pycharm": {
     "name": "#%%\n"
    }
   }
  },
  {
   "cell_type": "markdown",
   "source": [
    "## Model Interface: RandomForestClassifier"
   ],
   "metadata": {
    "collapsed": false
   }
  },
  {
   "cell_type": "markdown",
   "source": [
    "### Abstraction, Encapsulation, Polymorphism\n",
    "\n",
    "Below is one example of an abstraction that encapsulates an ML model and extends some customization points. Here we'll use a class interface, but functions can work too.\n",
    "\n",
    "You can parameterize every aspect of the model by adding arguments to the init method. Be mindful, you don't want to over-do it here. Keep your calling signature simple and usable. Provide good defaults and well named arguments, and your users will enjoy using your code. Make it super complicated, and they may as well just use Scikit themselves.\n",
    "\n",
    "A good interface should always encapsulate the core logic in such a way that the rest of the app is totally unaware of how it works, but can still interact with it. One might say that a good interface is always more abstract than the core logic it encapsulates. At this higher abstraction level it becomes easier to replace our core logic without disrupting other parts of the app.\n",
    "\n",
    "...and now a word from our sponsor, Polymorphism!\n",
    "\n",
    "One hypothetical example of Polymorphism is if we designed more than one ML model, possibly with two different ML libraries. Then gave them compatible interfaces. This gives us the ability to trade one model library for another without rewriting the whole app. We could do that at any time during development without disrupting anything. A Polymorphic system is built to be modular from the start."
   ],
   "metadata": {
    "collapsed": false
   }
  },
  {
   "cell_type": "code",
   "execution_count": 90,
   "outputs": [],
   "source": [
    "class Model:\n",
    "\n",
    "    def __init__(self, df: DataFrame, target: str, features: List[str]):\n",
    "        X_train, X_test, y_train, y_test = train_test_split(\n",
    "            df[features],\n",
    "            df[target],\n",
    "            test_size=0.20,\n",
    "            random_state=42,\n",
    "            stratify=df[target],\n",
    "        )\n",
    "        self.model = RandomForestClassifier(\n",
    "            criterion=\"entropy\",\n",
    "            max_depth=9,\n",
    "            max_features=3,\n",
    "            n_jobs=-1,\n",
    "            random_state=42,\n",
    "        )\n",
    "        self.model.fit(X_train, y_train)\n",
    "        self.baseline_score = 1 / df[target].unique().shape[0]\n",
    "        self.test_score = self.model.score(X_test, y_test)\n",
    "\n",
    "    def __call__(self, feature_basis: DataFrame) -> List[Tuple]:\n",
    "        prediction = self.model.predict(feature_basis)\n",
    "        probability = self.model.predict_proba(feature_basis)\n",
    "        return list(zip(prediction, map(max, probability)))\n",
    "\n",
    "    def __repr__(self):\n",
    "        output = (\n",
    "            \"Model: Random Forest Classifier\",\n",
    "            f\"Baseline Score: {self.baseline_score:.1%}\",\n",
    "            f\"Testing Score: {self.test_score:.1%}\",\n",
    "        )\n",
    "        return \"\\n\".join(output)\n",
    "\n",
    "    def __str__(self):\n",
    "        return repr(self)\n",
    "\n",
    "    def save(self, filepath):\n",
    "        joblib.dump(self, filepath)\n",
    "\n",
    "    @staticmethod\n",
    "    def open(filepath: str):\n",
    "        return joblib.load(filepath)"
   ],
   "metadata": {
    "collapsed": false,
    "pycharm": {
     "name": "#%%\n"
    }
   }
  },
  {
   "cell_type": "code",
   "execution_count": 91,
   "outputs": [
    {
     "data": {
      "text/plain": "Model: Random Forest Classifier\nBaseline Score: 16.7%\nTesting Score: 99.3%"
     },
     "execution_count": 91,
     "metadata": {},
     "output_type": "execute_result"
    }
   ],
   "source": [
    "model = Model(df=df, target=target, features=features)\n",
    "model"
   ],
   "metadata": {
    "collapsed": false,
    "pycharm": {
     "name": "#%%\n"
    }
   }
  },
  {
   "cell_type": "code",
   "execution_count": 92,
   "outputs": [
    {
     "data": {
      "text/plain": "RandomForestClassifier(criterion='entropy', max_depth=9, max_features=3,\n                       n_jobs=-1, random_state=42)"
     },
     "execution_count": 92,
     "metadata": {},
     "output_type": "execute_result"
    }
   ],
   "source": [
    "model.model"
   ],
   "metadata": {
    "collapsed": false,
    "pycharm": {
     "name": "#%%\n"
    }
   }
  },
  {
   "cell_type": "markdown",
   "source": [
    "### Make Predictions"
   ],
   "metadata": {
    "collapsed": false
   }
  },
  {
   "cell_type": "code",
   "execution_count": 81,
   "outputs": [],
   "source": [
    "test_cases = DataFrame([\n",
    "    {\n",
    "        \"level\": 1,\n",
    "        \"health\": 5,\n",
    "        \"energy\": 5,\n",
    "        \"sanity\": 5,\n",
    "    },\n",
    "    {\n",
    "        \"level\": 10,\n",
    "        \"health\": 75,\n",
    "        \"energy\": 75,\n",
    "        \"sanity\": 75,\n",
    "    },\n",
    "])"
   ],
   "metadata": {
    "collapsed": false,
    "pycharm": {
     "name": "#%%\n"
    }
   }
  },
  {
   "cell_type": "code",
   "execution_count": 82,
   "outputs": [
    {
     "data": {
      "text/plain": "[('Rank 1', 0.68), ('Rank 3', 0.83)]"
     },
     "execution_count": 82,
     "metadata": {},
     "output_type": "execute_result"
    }
   ],
   "source": [
    "model(test_cases)"
   ],
   "metadata": {
    "collapsed": false,
    "pycharm": {
     "name": "#%%\n"
    }
   }
  },
  {
   "cell_type": "code",
   "execution_count": null,
   "outputs": [],
   "source": [],
   "metadata": {
    "collapsed": false,
    "pycharm": {
     "name": "#%%\n"
    }
   }
  }
 ]
}