{
  "nbformat": 4,
  "nbformat_minor": 0,
  "metadata": {
    "colab": {
      "name": "Basic Classes.ipynb",
      "provenance": [],
      "collapsed_sections": []
    },
    "kernelspec": {
      "display_name": "Python 3",
      "language": "python",
      "name": "python3"
    },
    "language_info": {
      "codemirror_mode": {
        "name": "ipython",
        "version": 3
      },
      "file_extension": ".py",
      "mimetype": "text/x-python",
      "name": "python",
      "nbconvert_exporter": "python",
      "pygments_lexer": "ipython3",
      "version": "3.8.5"
    }
  },
  "cells": [
    {
      "cell_type": "markdown",
      "metadata": {
        "id": "cdK8NIgZsBpY"
      },
      "source": [
        "# Classes\n",
        "Classes are the object factories of many programming languages. The objects that classes create are typically called instances. Classes can also be used to organize code and/or data. Python Classes are similar to classes in other languages but in many ways they are quite different.\n",
        "\n",
        "[Python Class | python.org](https://docs.python.org/3/tutorial/classes.html?highlight=inheritance#classes)"
      ]
    },
    {
      "cell_type": "markdown",
      "metadata": {
        "id": "2gz4gF4ksG4r"
      },
      "source": [
        "## Class Instantiation & The Instance Object\n",
        "\n",
        "When a class is called directly you get back an instance object."
      ]
    },
    {
      "cell_type": "code",
      "metadata": {
        "id": "lazMUWUrr01I"
      },
      "source": [
        "class MyClass:\n",
        "    pass\n",
        "\n",
        "\n",
        "instance_object = MyClass()"
      ],
      "execution_count": null,
      "outputs": []
    },
    {
      "cell_type": "markdown",
      "metadata": {
        "id": "i7-UQltFsNeD"
      },
      "source": [
        "## Magic methods\n",
        "Also known as Dunder Methods - these are invoked by Python and do not need to be called directly. For example, the `__call__()` method is automatically called when you call the object itself. See Callable Object below.\n",
        "\n",
        "[Python Magic Methods | python.org](https://docs.python.org/3/reference/datamodel.html#special-method-names)"
      ]
    },
    {
      "cell_type": "markdown",
      "metadata": {
        "id": "tpsNd2O8zUPA"
      },
      "source": [
        "### Define Fields with `__init__()`\n",
        "\n",
        "This is the Init Method. It is used to populate fields on the instance object. The init method allows us to load the instance object with fields, this is the last step of the instantiation process. Fortunately the object already has all the class variables, instance methods, static methods and class methods pre-loaded. Inside any instance method the instance object has the name: self, this is an implict argument. You need to declare it in the method def but it is not expected to be passed in - that's the implicit part.\n",
        "\n",
        "Sometime this `__init__()` method is called the constructor, however it would be better to call it the initiallizer as the object has already been constructed at this point. There is another magic method `__new__()` - this is the proper constructor. The `__new__()` magic method will not be covered here as it is almost never used.\n",
        "\n",
        "[Python Init method | python.org](https://docs.python.org/3/reference/datamodel.html#object.__init__)"
      ]
    },
    {
      "cell_type": "code",
      "metadata": {
        "colab": {
          "base_uri": "https://localhost:8080/"
        },
        "id": "Q3e_2wcazadk",
        "outputId": "1fae8e60-843a-4cf7-a511-82d448ec4bdb"
      },
      "source": [
        "class Name:\n",
        "\n",
        "    def __init__(self, name):\n",
        "        self.name = name  # instance variable\n",
        "\n",
        "\n",
        "name_object = Name(\"Jim Bob Joe\")  # name passed to __init__\n",
        "print(name_object.name)"
      ],
      "execution_count": null,
      "outputs": [
        {
          "output_type": "stream",
          "text": [
            "Jim Bob Joe\n"
          ],
          "name": "stdout"
        }
      ]
    },
    {
      "cell_type": "markdown",
      "metadata": {
        "id": "byy4TIhHzMIu"
      },
      "source": [
        "### Callable Object with `__call__()`"
      ]
    },
    {
      "cell_type": "markdown",
      "metadata": {
        "id": "EpYRovw33IY4"
      },
      "source": [
        "In this example we'll see how we can add to the instance objects the ability to call them as if they where functions."
      ]
    },
    {
      "cell_type": "code",
      "metadata": {
        "colab": {
          "base_uri": "https://localhost:8080/"
        },
        "id": "KMdycdxFsQ9a",
        "outputId": "c536fe5f-ec07-4d2c-81aa-a2eb78f551b3"
      },
      "source": [
        "class Callable:\n",
        "    fourty_two = 42  # class variable\n",
        "\n",
        "    def __call__(self):\n",
        "        return self.fourty_two\n",
        "\n",
        "\n",
        "callable_obj = Callable()\n",
        "print(callable_obj)  # not called\n",
        "print(callable_obj())  # called"
      ],
      "execution_count": null,
      "outputs": [
        {
          "output_type": "stream",
          "text": [
            "<__main__.Callable object at 0x7fb641e5a590>\n",
            "42\n"
          ],
          "name": "stdout"
        }
      ]
    },
    {
      "cell_type": "markdown",
      "metadata": {
        "id": "8KvOU94YulMz"
      },
      "source": [
        "### Printable Object with `__str__()` and/or `__repr__()`\n",
        "\n",
        "`__str__()`: This magic method should return a string. This is used when the object is to be printed or any time the object is cast to a string.\n",
        "\n",
        "`__repr__()`: This magic method should also return a string. Typically this is a string of the class signature.\n",
        "\n",
        "So long as one of these methods are defined, the objects will be printable directly."
      ]
    },
    {
      "cell_type": "code",
      "metadata": {
        "colab": {
          "base_uri": "https://localhost:8080/"
        },
        "id": "mokVS_T533ln",
        "outputId": "bc61d84e-3203-471a-b946-4f8ac53bce6d"
      },
      "source": [
        "class Printable:\n",
        "    class_answer = 42\n",
        "\n",
        "    def __str__(self):\n",
        "        return f\"The answer is {self.class_answer}\"\n",
        "\n",
        "    def __repr__(self):\n",
        "        return \"Printable()\"\n",
        "\n",
        "answer = Printable()\n",
        "print(str(answer))\n",
        "print(repr(answer))"
      ],
      "execution_count": null,
      "outputs": [
        {
          "output_type": "stream",
          "text": [
            "The answer is 42\n",
            "Printable()\n"
          ],
          "name": "stdout"
        }
      ]
    },
    {
      "cell_type": "markdown",
      "metadata": {
        "id": "HO6u4suJrGdi"
      },
      "source": [
        "By default, notebooks will print the repr of the final expression in a cell, that is... if you don't use the print function. The print function prints the str output - as usual."
      ]
    },
    {
      "cell_type": "code",
      "metadata": {
        "colab": {
          "base_uri": "https://localhost:8080/"
        },
        "id": "vnZOJpd4rLQZ",
        "outputId": "12583a68-5069-41cd-a8e3-987be599014b"
      },
      "source": [
        "Printable()"
      ],
      "execution_count": null,
      "outputs": [
        {
          "output_type": "execute_result",
          "data": {
            "text/plain": [
              "Printable()"
            ]
          },
          "metadata": {},
          "execution_count": 5
        }
      ]
    },
    {
      "cell_type": "code",
      "metadata": {
        "colab": {
          "base_uri": "https://localhost:8080/"
        },
        "id": "STVk5mHqrssX",
        "outputId": "582112df-8996-45a1-f8a8-1a1e1b337e99"
      },
      "source": [
        "print(Printable())"
      ],
      "execution_count": null,
      "outputs": [
        {
          "output_type": "stream",
          "text": [
            "The answer is 42\n"
          ],
          "name": "stdout"
        }
      ]
    },
    {
      "cell_type": "markdown",
      "metadata": {
        "id": "1N-UG_wRsaz2"
      },
      "source": [
        "## Inheritance\n",
        "\n",
        "It can be said that Wizard & Fighter both inherit from Character. All fields and methods from any base classes will automatically be present in all derived classes. This is one way to share behavior and data across many classes.\n"
      ]
    },
    {
      "cell_type": "code",
      "metadata": {
        "colab": {
          "base_uri": "https://localhost:8080/",
          "height": 102
        },
        "id": "MzZUKhFysbY7",
        "outputId": "2baea88f-9da9-43b9-d834-917db3219a77"
      },
      "source": [
        "class Character:\n",
        "    \"\"\" Base Class \"\"\"\n",
        "    health = 10\n",
        "\n",
        "\n",
        "class Wizard(Character):\n",
        "    \"\"\" Derived Class \"\"\"\n",
        "    mana = 20\n",
        "\n",
        "\n",
        "class Fighter(Character):\n",
        "    \"\"\" Derived Class \"\"\"\n",
        "    power = 15\n",
        "\n",
        "\n",
        "wizard_object = Wizard()\n",
        "print(\"Wizard Health:\", wizard_object.health)\n",
        "print(\"Wizard Mana:\", wizard_object.mana)\n",
        "print()\n",
        "fighter_object = Fighter()\n",
        "print(\"Fighter Health:\", fighter_object.health)\n",
        "print(\"Fighter Power:\", fighter_object.power)"
      ],
      "execution_count": null,
      "outputs": [
        {
          "name": "stdout",
          "output_type": "stream",
          "text": [
            "Wizard Health: 10\n",
            "Wizard Mana: 20\n",
            "\n",
            "Fighter Health: 10\n",
            "Fighter Power: 15\n"
          ]
        }
      ]
    },
    {
      "cell_type": "markdown",
      "metadata": {
        "id": "eT1oZfEpsicF"
      },
      "source": [
        "### Avoid Multiple Inheritance\n",
        "\n",
        "The JunkYardShip below, only fires with the power of a StarFighter. This is due to the order that the base classes are inherited... `JunkYardShip(StarFighter, IonCanon)` should be `JunkYardShip(IonCanon, StarFighter)`, and this is weird. This seems backwards to anyone that knows how CSS works. \n",
        "\n",
        "Multiple Inheritance is not considered Pythonic and generally it's best avoided. Composition is a much better pattern, see the `StarDestroyer()` class."
      ]
    },
    {
      "cell_type": "code",
      "metadata": {
        "colab": {
          "base_uri": "https://localhost:8080/",
          "height": 68
        },
        "id": "o7sBCl4hsRfa",
        "outputId": "886eafd4-8f20-476b-d904-7678de0901d0"
      },
      "source": [
        "class StarFighter:\n",
        "\n",
        "    def fire(self):\n",
        "        return 10\n",
        "\n",
        "\n",
        "class IonCanon:\n",
        "\n",
        "    def fire(self):\n",
        "        return 100\n",
        "\n",
        "\n",
        "class JunkYardShip(StarFighter, IonCanon):  # Don't do this\n",
        "    \"\"\" I have a bad feeling about this. \"\"\"\n",
        "    pass\n",
        "\n",
        "\n",
        "class StarDestroyer(StarFighter):  # Do this instead\n",
        "    \"\"\" This class uses composition to gain \n",
        "    the full fire power of the IonCanon. \"\"\"\n",
        "    primary_weapon = IonCanon()\n",
        "\n",
        "    def fire(self):\n",
        "        return self.primary_weapon.fire()\n",
        "\n",
        "\n",
        "fighter = StarFighter()\n",
        "print(f\"StarFighter: {fighter.fire()}\")\n",
        "\n",
        "junk_ship = JunkYardShip()\n",
        "print(f\"JunkYardShip: {junk_ship.fire()}\")\n",
        "\n",
        "destroyer = StarDestroyer()\n",
        "print(f\"StarDestroyer: {destroyer.fire()}\")"
      ],
      "execution_count": null,
      "outputs": [
        {
          "name": "stdout",
          "output_type": "stream",
          "text": [
            "StarFighter: 10\n",
            "JunkYardShip: 10\n",
            "StarDestroyer: 100\n"
          ]
        }
      ]
    },
    {
      "cell_type": "markdown",
      "metadata": {
        "id": "bZAKkFa5spmM"
      },
      "source": [
        "## Polymorphism\n",
        "The example below uses inheritance to achieve full polymorphism between Monsters and Bosses. All fields and methods match in name and logical behavior. They do not need to hold the same data. This allows the two types of objects to be used interchangeably - and yet leverage their logical differences. Inheritance is not the only way to achieve polymorphism.\n"
      ]
    },
    {
      "cell_type": "code",
      "metadata": {
        "id": "xkxrJ0J3slBz"
      },
      "source": [
        "import random\n",
        "\n",
        "\n",
        "def dice(rolls, sides):\n",
        "    return sum(random.randint(1, sides) for _ in range(rolls))\n",
        "\n",
        "\n",
        "class Monster:\n",
        "    creature_type = \"Monster\"\n",
        "    hit_dice = 8\n",
        "    damage_dice = 6\n",
        "    names = (\"Goblin\", \"Troll\", \"Giant\", \"Zombie\", \"Ghoul\", \"Vampire\")\n",
        "\n",
        "    def __init__(self, level=1):\n",
        "        self.level = level\n",
        "        self.name = self.random_name()\n",
        "        self.total_health = dice(self.level, self.hit_dice)\n",
        "        self.current_health = self.total_health\n",
        "\n",
        "    def take_damage(self, amount):\n",
        "        print(f\"{self.name} takes {amount} damage!\")\n",
        "        self.current_health -= amount\n",
        "    \n",
        "    def deal_damage(self):\n",
        "        return dice(self.level, self.damage_dice)\n",
        "\n",
        "    def __str__(self):\n",
        "        output = (\n",
        "            f\"{self.creature_type}: {self.name}\",\n",
        "            f\"Level: {self.level}\",\n",
        "            f\"Health: {self.current_health}/{self.total_health}\",\n",
        "        )\n",
        "        return \"\\n\".join(output)\n",
        "\n",
        "    def random_name(self):\n",
        "        return random.choice(self.names)\n",
        "\n",
        "\n",
        "class Boss(Monster):\n",
        "    creature_type = \"Boss\"\n",
        "    hit_dice = 12\n",
        "    damage_dice = 8\n",
        "    names = (\n",
        "        \"The Loch Ness Monster\", \"Godzilla\", \"Nero the Sunblade\",\n",
        "        \"The Spider Queen\", \"Palladia Morris\", \"The Blood Countess\",\n",
        "    )"
      ],
      "execution_count": null,
      "outputs": []
    },
    {
      "cell_type": "code",
      "metadata": {
        "colab": {
          "base_uri": "https://localhost:8080/",
          "height": 153
        },
        "id": "yOXs3DAXAqV0",
        "outputId": "559fb8a8-3812-4834-ee27-e7e6d8655cc1"
      },
      "source": [
        "some_monster = Monster(10)\n",
        "print(some_monster, '\\n')\n",
        "\n",
        "dungeon_boss = Boss(20)\n",
        "print(dungeon_boss, '\\n')"
      ],
      "execution_count": null,
      "outputs": [
        {
          "name": "stdout",
          "output_type": "stream",
          "text": [
            "Monster: Troll\n",
            "Level: 10\n",
            "Health: 48/48 \n",
            "\n",
            "Boss: Nero the Sunblade\n",
            "Level: 20\n",
            "Health: 138/138 \n",
            "\n"
          ]
        }
      ]
    },
    {
      "cell_type": "code",
      "metadata": {
        "colab": {
          "base_uri": "https://localhost:8080/",
          "height": 34
        },
        "id": "fILrBhlQ-k9w",
        "outputId": "0cdf0c3d-4152-444a-b963-fb8d5242dbbe"
      },
      "source": [
        "dungeon_boss.take_damage(some_monster.deal_damage())"
      ],
      "execution_count": null,
      "outputs": [
        {
          "name": "stdout",
          "output_type": "stream",
          "text": [
            "Nero the Sunblade takes 34 damage!\n"
          ]
        }
      ]
    },
    {
      "cell_type": "code",
      "metadata": {
        "colab": {
          "base_uri": "https://localhost:8080/",
          "height": 68
        },
        "id": "epd_PxdaAnC-",
        "outputId": "4690237b-9434-454d-a2d0-162bb10f4378"
      },
      "source": [
        "print(dungeon_boss)"
      ],
      "execution_count": null,
      "outputs": [
        {
          "name": "stdout",
          "output_type": "stream",
          "text": [
            "Boss: Nero the Sunblade\n",
            "Level: 20\n",
            "Health: 104/138\n"
          ]
        }
      ]
    },
    {
      "cell_type": "code",
      "metadata": {
        "colab": {
          "base_uri": "https://localhost:8080/",
          "height": 34
        },
        "id": "gowc886aBGRC",
        "outputId": "42706142-5bff-437b-cef9-751ed1f1e777"
      },
      "source": [
        "some_monster.take_damage(dungeon_boss.deal_damage())"
      ],
      "execution_count": null,
      "outputs": [
        {
          "name": "stdout",
          "output_type": "stream",
          "text": [
            "Troll takes 84 damage!\n"
          ]
        }
      ]
    },
    {
      "cell_type": "code",
      "metadata": {
        "colab": {
          "base_uri": "https://localhost:8080/",
          "height": 68
        },
        "id": "eDPTfH3tBM49",
        "outputId": "9299baea-62dd-4b10-bbf6-763a74cd24c8"
      },
      "source": [
        "print(some_monster)"
      ],
      "execution_count": null,
      "outputs": [
        {
          "name": "stdout",
          "output_type": "stream",
          "text": [
            "Monster: Troll\n",
            "Level: 10\n",
            "Health: -36/48\n"
          ]
        }
      ]
    },
    {
      "cell_type": "markdown",
      "metadata": {
        "id": "6uoZer-Ysy9M"
      },
      "source": [
        "## Class Scope\n",
        "This can be tricky. It's better not to think of what is going on here as scope. But rather a blueprint to make objects. Sometimes the blueprint would like to refer to itself. This complicates things a great deal. What is self? Is it the class or the instance object? We want both abilities, and here we are. The convention is that when we use param 'self' we mean the instance object, when we actually mean the class, meaning in class methods, we will instead use the param 'cls'.\n",
        "\n",
        "In Java it's required to declare what are known as 'get' and 'set' methods to read and write class fields. In Python we never need to write get or set methods. We have direct access to all fields all the time. This is only partially true, see class methods and static methods for exceptions to this rule.\n"
      ]
    },
    {
      "cell_type": "code",
      "metadata": {
        "colab": {
          "base_uri": "https://localhost:8080/",
          "height": 204
        },
        "id": "DgEbdWLpsvdy",
        "outputId": "5aeae19d-2acb-4c75-b1f1-ba45583c516e"
      },
      "source": [
        "class ClassScope:\n",
        "    # self does not exit yet.\n",
        "    class_variable = \"class_variable\"\n",
        "\n",
        "    def __init__(self):\n",
        "        \"\"\" \n",
        "        Local scope inside a method is just like function scope. However,\n",
        "        methods also have access to class scope and instance scope\n",
        "        through self. \"\"\"\n",
        "\n",
        "        self.instance_variable = \"instance_variable\"\n",
        "\n",
        "    def instance_method(self):\n",
        "        \"\"\" This is a regular Instance Method.\n",
        "        We have access to everything from here.\n",
        "        Don't over think it, most of the time this is what you want.\n",
        "        While it is common to modify instance variables here, it is not wise to\n",
        "        declare them here. Use the `__init__()` method for that. Use instance\n",
        "        methods, like this one, to read and update instance variables. \"\"\"\n",
        "\n",
        "        return self.instance_variable + \": via instance method\"\n",
        "\n",
        "    @classmethod\n",
        "    def classy_method(cls):\n",
        "        \"\"\" This is a Class Method.\n",
        "        It's more restricted than regular methods. Instead of the `self`\n",
        "        param we use the `cls` param. This is a convention to indicate\n",
        "        we expect this method to live on a class that might possibly never\n",
        "        be instantiated. This is the whole point of having class methods.\n",
        "        This ability comes at a cost: everything we access from this scope\n",
        "        must live on the class itself, not an instance. Only static methods,\n",
        "        class methods and class variables are accessible here. \"\"\"\n",
        "\n",
        "        return cls.class_variable + \": via class method\"\n",
        "\n",
        "    @staticmethod\n",
        "    def selfless_method():\n",
        "        \"\"\" This is a Static Method.\n",
        "        It's way more restricted than regular methods. Static Methods\n",
        "        have no concept of `self` or `cls` and cannot access anything.\n",
        "\n",
        "        This is a prime candidate to refactor into a function. \"\"\"\n",
        "\n",
        "        local_variable = \"local_variable\"\n",
        "        return local_variable + \": via static method\"\n",
        "\n",
        "\n",
        "# Class Scope\n",
        "print(\"From the Class:\")\n",
        "print(ClassScope.class_variable)     # There is no spoon, i mean...\n",
        "print(ClassScope.classy_method())    # There is no instance.\n",
        "print(ClassScope.selfless_method())  # But we have lots of class!\n",
        "print()\n",
        "# Instance Scope\n",
        "print(\"From the Instance:\")\n",
        "instance_object = ClassScope()            # instance object instantiated.\n",
        "print(instance_object.instance_variable)  # now we have everything...\n",
        "print(instance_object.instance_method())  #    ...except local variables.\n",
        "print(instance_object.class_variable)\n",
        "print(instance_object.classy_method())\n",
        "print(instance_object.selfless_method())"
      ],
      "execution_count": null,
      "outputs": [
        {
          "name": "stdout",
          "output_type": "stream",
          "text": [
            "From the Class:\n",
            "class_variable\n",
            "class_variable: via class method\n",
            "local_variable: via static method\n",
            "\n",
            "From the Instance:\n",
            "instance_variable\n",
            "instance_variable: via instance method\n",
            "class_variable\n",
            "class_variable: via class method\n",
            "local_variable: via static method\n"
          ]
        }
      ]
    }
  ]
}